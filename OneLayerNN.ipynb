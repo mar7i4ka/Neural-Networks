{
  "nbformat": 4,
  "nbformat_minor": 0,
  "metadata": {
    "colab": {
      "provenance": [],
      "authorship_tag": "ABX9TyOAPKTxp7OurD7s4t22D7li",
      "include_colab_link": true
    },
    "kernelspec": {
      "name": "python3",
      "display_name": "Python 3"
    },
    "language_info": {
      "name": "python"
    }
  },
  "cells": [
    {
      "cell_type": "markdown",
      "metadata": {
        "id": "view-in-github",
        "colab_type": "text"
      },
      "source": [
        "<a href=\"https://colab.research.google.com/github/mar7i4ka/Neural-Networks/blob/main/OneLayerNN.ipynb\" target=\"_parent\"><img src=\"https://colab.research.google.com/assets/colab-badge.svg\" alt=\"Open In Colab\"/></a>"
      ]
    },
    {
      "cell_type": "markdown",
      "source": [
        "Използване на един универсален неврон, който чрез контекстно превключване емулира цяла невронна мрежа. Тук се обработва цял слой наведнъж вместно неврон по неврон. Умножавам матрицата от входа с теглата по входа с изображенията и с Numpy и симулирам цял слой изчисл"
      ],
      "metadata": {
        "id": "rWZUg_3754HS"
      }
    },
    {
      "cell_type": "code",
      "source": [
        "import torch\n",
        "import torch.nn as nn\n",
        "import torch.optim as optim\n",
        "from torchvision import datasets, transforms\n",
        "from torch.utils.data import DataLoader\n",
        "import numpy as np\n",
        "import matplotlib.pyplot as plt\n",
        "\n",
        "# Device\n",
        "device = torch.device(\"cuda\" if torch.cuda.is_available() else \"cpu\")\n",
        "print(\"Using device:\", device)\n",
        "\n",
        "# Мрежа\n",
        "class MultiLayerNet(nn.Module):\n",
        "    def __init__(self):\n",
        "        super().__init__()\n",
        "        self.flatten = nn.Flatten() #turn each image of MNIST from 28x28(2D) into 1D vector of 784 pixels\n",
        "        self.fc1 = nn.Linear(784, 128)\n",
        "        self.fc2 = nn.Linear(128, 64)\n",
        "        self.fc3 = nn.Linear(64, 10) #10 beacuse we are looking for numbers from 0-9\n",
        "        self.act = nn.ReLU() #act. func - 0 if the output is negative\n",
        "\n",
        "    def forward(self, x):\n",
        "        x = self.flatten(x) #convert from 1 28 28 to 1 784\n",
        "        x = self.act(self.fc1(x)) #apply 1st layer and ReLU\n",
        "        x = self.act(self.fc2(x)) #apply second layer and ReLU\n",
        "        x = self.fc3(x) #output 10 values before softmax\n",
        "        return x\n",
        "\n",
        "# Зареждане на MNIST\n",
        "transform = transforms.Compose([transforms.ToTensor()]) #convert images to tensors, normalize the pixels\n",
        "train_data = datasets.MNIST('./data', train=True, download=True, transform=transform)\n",
        "test_data = datasets.MNIST('./data', train=False, download=True, transform=transform)\n",
        "train_loader = DataLoader(train_data, batch_size=64, shuffle=True) #split in batches of 64 images and shuffle them so the model doesnt'learn them in a fixed ordeer (WHY?)\n",
        "'''\n",
        "shuffling is important to reduse bias(early batches will contin similar looking digits, might overfit 0 and 1 and then struggle later on 8 and 9),\n",
        "reduce generalization ( do well on new data), faster leariing beacuse diff inf in every batch\n",
        "'''\n",
        "# Обучение\n",
        "model = MultiLayerNet().to(device) #start the learning\n",
        "criterion = nn.CrossEntropyLoss() #loss function - compare predicted values to true labels\n",
        "optimizer = optim.Adam(model.parameters(), lr=0.001) #optimizer to adjust w during learning. Using adaptive moment estimation. Learning rate is small\n",
        "\n",
        "for epoch in range(5):\n",
        "    model.train()\n",
        "    total_loss = 0 #measure loss\n",
        "    for images, labels in train_loader: #loop through the dataset in batches\n",
        "        images, labels = images.to(device), labels.to(device) #move the data to the device\n",
        "        outputs = model(images) #pass through the model\n",
        "        loss = criterion(outputs, labels) #calculate loss\n",
        "\n",
        "        optimizer.zero_grad() #clear any previous gradient stored\n",
        "        loss.backward() #calculate gradients (how much each weight contributed to the error(loss))\n",
        "        optimizer.step() #update model weights uding the calc gradients\n",
        "\n",
        "        total_loss += loss.item() #add loss to total\n",
        "    print(f\"Epoch {epoch+1}, Loss: {total_loss:.4f}\")\n",
        "\n",
        "# Извличане на тегла и bias-и\n",
        "def extract_contexts(model):\n",
        "    return [\n",
        "        (model.fc1.weight.detach().cpu().numpy(), model.fc1.bias.detach().cpu().numpy()), #.cpu(move from gpu to cpu), .numpy from tensor to np array\n",
        "        (model.fc2.weight.detach().cpu().numpy(), model.fc2.bias.detach().cpu().numpy()),\n",
        "        (model.fc3.weight.detach().cpu().numpy(), model.fc3.bias.detach().cpu().numpy())\n",
        "    ]\n",
        "\n",
        "# 5. ReLU LUT таблица - precompute values in the table so relu wont need to be called every time and the table will just be an input table\n",
        "relu_lut_resolution = 1000 #can eb changed to more but this is enough to store 0.02 units of input to the lut table\n",
        "x_vals = np.linspace(-10, 10, relu_lut_resolution) #1D array in 1000 steps from -10 to 10\n",
        "relu_vals = np.maximum(0, x_vals) #apply relu to each values negative to 0 positive stay the same\n",
        "\n",
        "def relu_lut(x):\n",
        "    x = np.clip(x, -10, 10) #make sure x stays in range\n",
        "    idx = int(((x + 10) / 20) * (relu_lut_resolution - 1)) #change resolution to start from 0, make all values int\n",
        "    return relu_vals[idx]\n",
        "\n",
        "\n",
        "# Еднослойна мрежа\n",
        "\n",
        "def simulate_layer(input_vector, weights, bias, use_activation=True):\n",
        "    z = np.dot(weights, input_vector) + bias #matrix multiplication - z is the raw outup before activation\n",
        "    if use_activation:\n",
        "        return np.array([relu_lut(v) for v in z]) #\n",
        "    else:\n",
        "        return z  # Last layer, no activation\n",
        "\n",
        "\n",
        "# Forward pass\n",
        "\n",
        "def context_switch_inference(img, context_list):\n",
        "    x = img.view(-1).numpy() #vecor\n",
        "\n",
        "    for i, (w, b) in enumerate(context_list):\n",
        "        use_act = (i < len(context_list) - 1)  # no activation after last layer\n",
        "        x = simulate_layer(x, w, b, use_activation=use_act)\n",
        "\n",
        "    return np.argmax(x)\n",
        "\n",
        "# Тестване\n",
        "\n",
        "def test_context_switching(model, test_data):\n",
        "    context_list = extract_contexts(model)\n",
        "    correct = 0\n",
        "\n",
        "    for i in range(len(test_data)):\n",
        "        img, label = test_data[i]\n",
        "        pred = context_switch_inference(img, context_list)\n",
        "        correct += (pred == label)\n",
        "\n",
        "    acc = 100 * correct / len(test_data)\n",
        "    print(f\"Context-Switching Accuracy (1 physical layer): {acc:.2f}%\")\n",
        "\n",
        "test_context_switching(model, test_data)\n",
        "\n",
        "# Визуализация\n",
        "def visualize_predictions(test_data, context_list, count=5):\n",
        "    for i in range(count):\n",
        "        img, label = test_data[i]\n",
        "        pred = context_switch_inference(img, context_list)\n",
        "        plt.imshow(img.squeeze(), cmap='gray')\n",
        "        plt.title(f\"True: {label}, Predicted: {pred}\")\n",
        "        plt.axis('off')\n",
        "        plt.show()\n",
        "\n",
        "context_list = extract_contexts(model)\n",
        "visualize_predictions(test_data, context_list, count=5)"
      ],
      "metadata": {
        "colab": {
          "base_uri": "https://localhost:8080/",
          "height": 1000
        },
        "id": "VyAph_MIJiE2",
        "outputId": "d48cda86-5cc6-485a-b3b3-b9d73a27056e"
      },
      "execution_count": null,
      "outputs": [
        {
          "output_type": "stream",
          "name": "stdout",
          "text": [
            "Using device: cpu\n",
            "Epoch 1, Loss: 324.9721\n",
            "Epoch 2, Loss: 132.9758\n",
            "Epoch 3, Loss: 89.6377\n",
            "Epoch 4, Loss: 67.5795\n",
            "Epoch 5, Loss: 51.8959\n",
            "Context-Switching Accuracy (1 physical layer): 97.44%\n"
          ]
        },
        {
          "output_type": "display_data",
          "data": {
            "text/plain": [
              "<Figure size 640x480 with 1 Axes>"
            ],
            "image/png": "[encoded data removed]"
          },
          "metadata": {}
        },
        {
          "output_type": "display_data",
          "data": {
            "text/plain": [
              "<Figure size 640x480 with 1 Axes>"
            ],
            "image/png": "[encoded data removed]"
          },
          "metadata": {}
        },
        {
          "output_type": "display_data",
          "data": {
            "text/plain": [
              "<Figure size 640x480 with 1 Axes>"
            ],
            "image/png": "[encoded data removed]"
          },
          "metadata": {}
        },
        {
          "output_type": "display_data",
          "data": {
            "text/plain": [
              "<Figure size 640x480 with 1 Axes>"
            ],
            "image/png": "[encoded data removed]"
          },
          "metadata": {}
        },
        {
          "output_type": "display_data",
          "data": {
            "text/plain": [
              "<Figure size 640x480 with 1 Axes>"
            ],
            "image/png": "[encoded data removed]"
          },
          "metadata": {}
        }
      ]
    },
    {
      "cell_type": "code",
      "source": [],
      "metadata": {
        "id": "eYbHd4zaAKUP"
      },
      "execution_count": null,
      "outputs": []
    },
    {
      "cell_type": "code",
      "source": [],
      "metadata": {
        "id": "bSlg7BjxAKvC"
      },
      "execution_count": null,
      "outputs": []
    },
    {
      "cell_type": "code",
      "source": [
        "from sklearn.metrics import classification_report, top_k_accuracy_score\n",
        "import seaborn as sns\n",
        "import time\n",
        "\n",
        "def extended_evaluation(model, test_data):\n",
        "    context_list = extract_contexts(model)\n",
        "    y_true = []\n",
        "    y_pred = []\n",
        "    y_scores = []\n",
        "\n",
        "    total_time = 0\n",
        "    nonzero_activation_count = 0\n",
        "    total_activation_count = 0\n",
        "\n",
        "    for i in range(len(test_data)):\n",
        "        img, label = test_data[i]\n",
        "        y_true.append(label)\n",
        "\n",
        "        #Measure inference time\n",
        "        start_time = time.time()\n",
        "        x = img.view(-1).numpy()\n",
        "        for j, (w, b) in enumerate(context_list):\n",
        "            use_act = (j < len(context_list) - 1)\n",
        "            z = np.dot(w, x) + b\n",
        "            if use_act:\n",
        "                activated = np.array([relu_lut(val) for val in z])\n",
        "                nonzero_activation_count += np.count_nonzero(activated)\n",
        "                total_activation_count += len(activated)\n",
        "                x = activated\n",
        "            else:\n",
        "                x = z  #Last layer output\n",
        "        total_time += time.time() - start_time\n",
        "\n",
        "        y_pred.append(np.argmax(x))\n",
        "        y_scores.append(x)  #store full output\n",
        "\n",
        "    acc = 100 * np.mean(np.array(y_pred) == np.array(y_true))\n",
        "    top3_acc = 100 * top_k_accuracy_score(y_true, y_scores, k=3, labels=list(range(10)))\n",
        "\n",
        "    print(f\"\\n🔍 Extended Evaluation Metrics\")\n",
        "    print(f\"Top-1 Accuracy: {acc:.2f}%\")\n",
        "    print(f\"Top-3 Accuracy: {top3_acc:.2f}%\")\n",
        "    print(f\"Average Inference Time: {1000 * total_time / len(test_data):.4f} ms/sample\")\n",
        "\n",
        "    if total_activation_count > 0:\n",
        "        sparsity = 100 * (1 - nonzero_activation_count / total_activation_count)\n",
        "        print(f\"Activation Sparsity (ReLU zero output %): {sparsity:.2f}%\")\n",
        "\n",
        "#Report\n",
        "\n",
        "    print(\"\\nClassification Report:\")\n",
        "    print(classification_report(y_true, y_pred, digits=4))\n",
        "\n",
        "extended_evaluation(model, test_data)\n"
      ],
      "metadata": {
        "colab": {
          "base_uri": "https://localhost:8080/"
        },
        "id": "4_xaA2EPFLQi",
        "outputId": "1dbbd64f-c725-45ad-ab1b-238783957b3e"
      },
      "execution_count": null,
      "outputs": [
        {
          "output_type": "stream",
          "name": "stdout",
          "text": [
            "\n",
            "🔍 Extended Evaluation Metrics\n",
            "Top-1 Accuracy: 97.44%\n",
            "Top-3 Accuracy: 99.68%\n",
            "Average Inference Time: 1.5353 ms/sample\n",
            "Activation Sparsity (ReLU zero output %): 47.17%\n",
            "\n",
            "Classification Report:\n",
            "              precision    recall  f1-score   support\n",
            "\n",
            "           0     0.9749    0.9898    0.9823       980\n",
            "           1     0.9843    0.9938    0.9890      1135\n",
            "           2     0.9749    0.9777    0.9763      1032\n",
            "           3     0.9878    0.9634    0.9754      1010\n",
            "           4     0.9845    0.9674    0.9759       982\n",
            "           5     0.9473    0.9865    0.9665       892\n",
            "           6     0.9781    0.9791    0.9786       958\n",
            "           7     0.9728    0.9747    0.9738      1028\n",
            "           8     0.9838    0.9374    0.9600       974\n",
            "           9     0.9543    0.9722    0.9632      1009\n",
            "\n",
            "    accuracy                         0.9744     10000\n",
            "   macro avg     0.9743    0.9742    0.9741     10000\n",
            "weighted avg     0.9746    0.9744    0.9744     10000\n",
            "\n"
          ]
        }
      ]
    }
  ]
}