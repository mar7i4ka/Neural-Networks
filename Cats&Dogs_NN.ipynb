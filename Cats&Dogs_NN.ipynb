{
  "nbformat": 4,
  "nbformat_minor": 0,
  "metadata": {
    "colab": {
      "provenance": [],
      "authorship_tag": "ABX9TyMHaHfwdDlAqAkGSBnkeH+s",
      "include_colab_link": true
    },
    "kernelspec": {
      "name": "python3",
      "display_name": "Python 3"
    },
    "language_info": {
      "name": "python"
    }
  },
  "cells": [
    {
      "cell_type": "markdown",
      "metadata": {
        "id": "view-in-github",
        "colab_type": "text"
      },
      "source": [
        "<a href=\"https://colab.research.google.com/github/mar7i4ka/Neural-Networks/blob/main/Cats%26Dogs_NN.ipynb\" target=\"_parent\"><img src=\"https://colab.research.google.com/assets/colab-badge.svg\" alt=\"Open In Colab\"/></a>"
      ]
    },
    {
      "cell_type": "code",
      "source": [
        "import kagglehub\n",
        "\n",
        "path = kagglehub.dataset_download(\"biaiscience/dogs-vs-cats\")\n",
        "\n",
        "print(\"Path to dataset files:\", path)"
      ],
      "metadata": {
        "colab": {
          "base_uri": "https://localhost:8080/"
        },
        "id": "TUo11NlCEDM6",
        "outputId": "f4d09c1e-ac10-416e-e5eb-6125a41dea94"
      },
      "execution_count": null,
      "outputs": [
        {
          "output_type": "stream",
          "name": "stdout",
          "text": [
            "Downloading from https://www.kaggle.com/api/v1/datasets/download/biaiscience/dogs-vs-cats?dataset_version_number=1...\n"
          ]
        },
        {
          "output_type": "stream",
          "name": "stderr",
          "text": [
            "100%|██████████| 817M/817M [00:10<00:00, 85.4MB/s]"
          ]
        },
        {
          "output_type": "stream",
          "name": "stdout",
          "text": [
            "Extracting files...\n"
          ]
        },
        {
          "output_type": "stream",
          "name": "stderr",
          "text": [
            "\n"
          ]
        },
        {
          "output_type": "stream",
          "name": "stdout",
          "text": [
            "Path to dataset files: /root/.cache/kagglehub/datasets/biaiscience/dogs-vs-cats/versions/1\n"
          ]
        }
      ]
    },
    {
      "cell_type": "code",
      "execution_count": null,
      "metadata": {
        "id": "dkFDj3tnDGmp"
      },
      "outputs": [],
      "source": [
        "import pathlib, zipfile\n",
        "import torch, torch.nn as nn\n",
        "from torchvision import transforms, datasets\n",
        "from torch.utils.data import random_split, DataLoader\n",
        "import torch.optim as optim\n",
        "import torch.nn.functional as F\n",
        "from tqdm import tqdm\n",
        "\n",
        "dataset_dir = pathlib.Path(\"/root/.cache/kagglehub/datasets/biaiscience/dogs-vs-cats/versions/1\")\n",
        "\n",
        "transform = transforms.Compose([\n",
        "    transforms.Resize((64, 64)),\n",
        "    transforms.ToTensor(),                      # [0,1]\n",
        "    transforms.Normalize([0.5]*3, [0.5]*3)      # [-1,1]\n",
        "])\n",
        "\n",
        "full_ds = datasets.ImageFolder(dataset_dir, transform=transform)\n",
        "\n",
        "subset_size = 10_000\n",
        "full_ds = torch.utils.data.Subset(full_ds, range(subset_size))\n",
        "\n",
        "train_size = int(0.8*len(full_ds))\n",
        "val_size   = len(full_ds) - train_size\n",
        "train_ds, val_ds = random_split(full_ds, [train_size, val_size])\n",
        "\n",
        "train_dl = DataLoader(train_ds, batch_size=128, shuffle=True, num_workers=2)\n",
        "val_dl   = DataLoader(val_ds,   batch_size=256, shuffle=False, num_workers=2)\n"
      ]
    },
    {
      "cell_type": "code",
      "source": [
        "class TinyFFNN(nn.Module):\n",
        "    def __init__(self):\n",
        "        super().__init__()\n",
        "\n",
        "        self.net = nn.Sequential(\n",
        "            nn.Flatten(),\n",
        "            nn.Linear(64*64*3, 512),\n",
        "            nn.ReLU(),\n",
        "            nn.Linear(512, 128),\n",
        "            nn.ReLU(),\n",
        "            nn.Linear(128, 1)\n",
        "        )\n",
        "\n",
        "    def forward(self, x):\n",
        "        return self.net(x).squeeze(1)\n"
      ],
      "metadata": {
        "id": "T0XeH-T9DJXB"
      },
      "execution_count": null,
      "outputs": []
    },
    {
      "cell_type": "code",
      "source": [
        "device = torch.device(\"cuda\" if torch.cuda.is_available() else \"cpu\")\n",
        "model = TinyFFNN().to(device)\n",
        "opt   = optim.Adam(model.parameters(), lr=1e-3)\n",
        "criterion = nn.BCEWithLogitsLoss()\n",
        "\n",
        "def step(dl, train=False):\n",
        "    total, correct, loss_sum = 0, 0, 0.0\n",
        "    model.train(train)\n",
        "    for xb, yb in (tqdm(dl) if train else dl):\n",
        "        xb, yb = xb.to(device), yb.float().to(device)\n",
        "        logits = model(xb)\n",
        "        loss = criterion(logits, yb)\n",
        "        if train:\n",
        "            opt.zero_grad(); loss.backward(); opt.step()\n",
        "        loss_sum += loss.item()*yb.size(0)\n",
        "        preds = (torch.sigmoid(logits) > 0.5)\n",
        "        correct += (preds == yb.bool()).sum().item()\n",
        "        total += yb.size(0)\n",
        "    return loss_sum/total, correct/total\n",
        "\n",
        "for epoch in range(10):\n",
        "    train_loss, train_acc = step(train_dl, train=True)\n",
        "    val_loss,   val_acc   = step(val_dl,   train=False)\n",
        "    print(f\"{epoch:02d}: \"\n",
        "          f\"train loss={train_loss:.4f}, acc={train_acc:.3%} │ \"\n",
        "          f\"val loss={val_loss:.4f}, acc={val_acc:.3%}\")\n"
      ],
      "metadata": {
        "colab": {
          "base_uri": "https://localhost:8080/"
        },
        "id": "uDguoHHYDLir",
        "outputId": "82399140-23aa-42f4-9f82-ec119fd7a3d7"
      },
      "execution_count": null,
      "outputs": [
        {
          "output_type": "stream",
          "name": "stderr",
          "text": [
            "100%|██████████| 63/63 [00:35<00:00,  1.80it/s]\n"
          ]
        },
        {
          "output_type": "stream",
          "name": "stdout",
          "text": [
            "00: train loss=0.0172, acc=98.312% │ val loss=0.0000, acc=100.000%\n"
          ]
        },
        {
          "output_type": "stream",
          "name": "stderr",
          "text": [
            "100%|██████████| 63/63 [00:35<00:00,  1.76it/s]\n"
          ]
        },
        {
          "output_type": "stream",
          "name": "stdout",
          "text": [
            "01: train loss=0.0000, acc=100.000% │ val loss=0.0000, acc=100.000%\n"
          ]
        },
        {
          "output_type": "stream",
          "name": "stderr",
          "text": [
            "100%|██████████| 63/63 [00:35<00:00,  1.77it/s]\n"
          ]
        },
        {
          "output_type": "stream",
          "name": "stdout",
          "text": [
            "02: train loss=0.0000, acc=100.000% │ val loss=0.0000, acc=100.000%\n"
          ]
        },
        {
          "output_type": "stream",
          "name": "stderr",
          "text": [
            "100%|██████████| 63/63 [00:38<00:00,  1.65it/s]\n"
          ]
        },
        {
          "output_type": "stream",
          "name": "stdout",
          "text": [
            "03: train loss=0.0000, acc=100.000% │ val loss=0.0000, acc=100.000%\n"
          ]
        },
        {
          "output_type": "stream",
          "name": "stderr",
          "text": [
            "100%|██████████| 63/63 [00:38<00:00,  1.64it/s]\n"
          ]
        },
        {
          "output_type": "stream",
          "name": "stdout",
          "text": [
            "04: train loss=0.0000, acc=100.000% │ val loss=0.0000, acc=100.000%\n"
          ]
        },
        {
          "output_type": "stream",
          "name": "stderr",
          "text": [
            "100%|██████████| 63/63 [00:38<00:00,  1.63it/s]\n"
          ]
        },
        {
          "output_type": "stream",
          "name": "stdout",
          "text": [
            "05: train loss=0.0000, acc=100.000% │ val loss=0.0000, acc=100.000%\n"
          ]
        },
        {
          "output_type": "stream",
          "name": "stderr",
          "text": [
            "100%|██████████| 63/63 [00:36<00:00,  1.74it/s]\n"
          ]
        },
        {
          "output_type": "stream",
          "name": "stdout",
          "text": [
            "06: train loss=0.0000, acc=100.000% │ val loss=0.0000, acc=100.000%\n"
          ]
        },
        {
          "output_type": "stream",
          "name": "stderr",
          "text": [
            "100%|██████████| 63/63 [00:36<00:00,  1.73it/s]\n"
          ]
        },
        {
          "output_type": "stream",
          "name": "stdout",
          "text": [
            "07: train loss=0.0000, acc=100.000% │ val loss=0.0000, acc=100.000%\n"
          ]
        },
        {
          "output_type": "stream",
          "name": "stderr",
          "text": [
            "100%|██████████| 63/63 [00:37<00:00,  1.69it/s]\n"
          ]
        },
        {
          "output_type": "stream",
          "name": "stdout",
          "text": [
            "08: train loss=0.0000, acc=100.000% │ val loss=0.0000, acc=100.000%\n"
          ]
        },
        {
          "output_type": "stream",
          "name": "stderr",
          "text": [
            "100%|██████████| 63/63 [00:36<00:00,  1.72it/s]\n"
          ]
        },
        {
          "output_type": "stream",
          "name": "stdout",
          "text": [
            "09: train loss=0.0000, acc=100.000% │ val loss=0.0000, acc=100.000%\n"
          ]
        }
      ]
    }
  ]
}